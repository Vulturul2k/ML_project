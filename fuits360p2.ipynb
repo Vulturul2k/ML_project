{
 "cells": [
  {
   "cell_type": "code",
   "execution_count": 1,
   "metadata": {},
   "outputs": [
    {
     "name": "stdout",
     "output_type": "stream",
     "text": [
      "Defaulting to user installation because normal site-packages is not writeable"
     ]
    },
    {
     "name": "stderr",
     "output_type": "stream",
     "text": [
      "ERROR: Could not find a version that satisfies the requirement torch (from versions: none)\n",
      "ERROR: No matching distribution found for torch\n"
     ]
    },
    {
     "name": "stdout",
     "output_type": "stream",
     "text": [
      "\n",
      "Looking in indexes: https://download.pytorch.org/whl/cu124/torch_stable.html\n"
     ]
    }
   ],
   "source": [
    "!pip install torch torchvision torchaudio --index-url https://download.pytorch.org/whl/cu124/torch_stable.html\n"
   ]
  },
  {
   "cell_type": "code",
   "execution_count": 2,
   "metadata": {},
   "outputs": [
    {
     "name": "stdout",
     "output_type": "stream",
     "text": [
      "Defaulting to user installation because normal site-packages is not writeable\n",
      "Looking in links: https://download.pytorch.org/whl/torch_stable.html\n",
      "Collecting torch===1.4.0\n",
      "  Downloading https://download.pytorch.org/whl/cu101/torch-1.4.0-cp37-cp37m-win_amd64.whl (796.8 MB)\n",
      "     -------------------------------------- 796.8/796.8 MB 8.0 MB/s eta 0:00:00\n",
      "Collecting torchvision===0.5.0\n",
      "  Downloading torchvision-0.5.0-cp37-cp37m-win_amd64.whl.metadata (3.5 kB)\n",
      "Requirement already satisfied: numpy in c:\\users\\raduf\\appdata\\roaming\\python\\python37\\site-packages (from torchvision===0.5.0) (1.21.6)\n",
      "Requirement already satisfied: six in c:\\users\\raduf\\appdata\\roaming\\python\\python37\\site-packages (from torchvision===0.5.0) (1.16.0)\n",
      "Requirement already satisfied: pillow>=4.1.1 in c:\\users\\raduf\\appdata\\roaming\\python\\python37\\site-packages (from torchvision===0.5.0) (9.5.0)\n",
      "Downloading torchvision-0.5.0-cp37-cp37m-win_amd64.whl (1.2 MB)\n",
      "   ---------------------------------------- 1.2/1.2 MB 5.6 MB/s eta 0:00:00\n",
      "Installing collected packages: torch, torchvision\n",
      "Successfully installed torch-1.4.0 torchvision-0.5.0\n"
     ]
    }
   ],
   "source": [
    "!pip install torch===1.4.0 torchvision===0.5.0 -f https://download.pytorch.org/whl/torch_stable.html\n"
   ]
  }
 ],
 "metadata": {
  "kernelspec": {
   "display_name": "Python 3",
   "language": "python",
   "name": "python3"
  },
  "language_info": {
   "codemirror_mode": {
    "name": "ipython",
    "version": 3
   },
   "file_extension": ".py",
   "mimetype": "text/x-python",
   "name": "python",
   "nbconvert_exporter": "python",
   "pygments_lexer": "ipython3",
   "version": "3.7.9"
  }
 },
 "nbformat": 4,
 "nbformat_minor": 2
}
