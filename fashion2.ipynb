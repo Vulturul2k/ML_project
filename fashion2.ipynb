{
 "cells": [
  {
   "cell_type": "code",
   "execution_count": 2,
   "metadata": {},
   "outputs": [
    {
     "name": "stdout",
     "output_type": "stream",
     "text": [
      "x_train shape: (60000, 28, 28, 1), y_train shape: (60000,)\n"
     ]
    }
   ],
   "source": [
    "import tensorflow as tf\n",
    "from tensorflow.keras.datasets import fashion_mnist\n",
    "import matplotlib.pyplot as plt\n",
    "import numpy as np\n",
    "from skimage.feature import hog\n",
    "import pandas as pd\n",
    "from sklearn.feature_selection import VarianceThreshold, SelectPercentile, f_classif\n",
    "from sklearn.decomposition import PCA\n",
    "from sklearn.preprocessing import StandardScaler\n",
    "from sklearn.svm import SVC\n",
    "from sklearn.model_selection import RandomizedSearchCV\n",
    "from sklearn.metrics import classification_report, ConfusionMatrixDisplay, accuracy_score\n",
    "from sklearn.linear_model import LogisticRegression\n",
    "from sklearn.metrics import classification_report, accuracy_score, ConfusionMatrixDisplay\n",
    "import numpy as np\n",
    "from sklearn.metrics import precision_score\n",
    "\n",
    "(x_train, y_train), (x_test, y_test) = fashion_mnist.load_data()\n",
    "\n",
    "\n",
    "x_train = x_train / 255.0\n",
    "x_test = x_test / 255.0\n",
    "\n",
    "x_train = x_train[..., np.newaxis]\n",
    "x_test = x_test[..., np.newaxis]\n",
    "\n",
    "print(f\"x_train shape: {x_train.shape}, y_train shape: {y_train.shape}\")"
   ]
  },
  {
   "cell_type": "code",
   "execution_count": 3,
   "metadata": {},
   "outputs": [],
   "source": [
    "x_train_flat = x_train.reshape(x_train.shape[0], -1)\n",
    "x_test_flat = x_test.reshape(x_test.shape[0], -1)\n",
    "\n",
    "pca = PCA(n_components=20)\n",
    "x_train_pca = pca.fit_transform(x_train_flat)\n",
    "x_test_pca = pca.transform(x_test_flat)"
   ]
  },
  {
   "cell_type": "code",
   "execution_count": 4,
   "metadata": {},
   "outputs": [
    {
     "name": "stdout",
     "output_type": "stream",
     "text": [
      "HOG Features Train Shape: (60000, 144)\n",
      "HOG Features Test Shape: (10000, 144)\n"
     ]
    }
   ],
   "source": [
    "def apply_hog_fixed(images):\n",
    "    hog_features = []\n",
    "    for img in images:\n",
    "        feature, _= hog(img, orientations=9, pixels_per_cell=(8, 8),\n",
    "                         cells_per_block=(2, 2), visualize=True, channel_axis=2)\n",
    "        hog_features.append(feature)\n",
    "    return np.array(hog_features)\n",
    "\n",
    "hog_features_train = apply_hog_fixed(x_train)\n",
    "hog_features_test = apply_hog_fixed(x_test)\n",
    "\n",
    "print(f\"HOG Features Train Shape: {hog_features_train.shape}\")\n",
    "print(f\"HOG Features Test Shape: {hog_features_test.shape}\")"
   ]
  },
  {
   "cell_type": "markdown",
   "metadata": {},
   "source": [
    "## 3.1"
   ]
  },
  {
   "cell_type": "code",
   "execution_count": 5,
   "metadata": {},
   "outputs": [
    {
     "name": "stdout",
     "output_type": "stream",
     "text": [
      "Dimensiuni finale: Train: (60000, 58), Test: (10000, 58)\n"
     ]
    }
   ],
   "source": [
    "scaler = StandardScaler()\n",
    "\n",
    "scaler.fit(x_train_pca)\n",
    "\n",
    "x_train_pca_standardized = scaler.transform(x_train_pca)\n",
    "\n",
    "x_test_pca_standardized = scaler.transform(x_test_pca)\n",
    "\n",
    "\n",
    "scaler_hog = StandardScaler()\n",
    "x_train_hog_standardized = scaler_hog.fit_transform(hog_features_train)\n",
    "x_test_hog_standardized = scaler_hog.transform(hog_features_test)\n",
    "\n",
    "x_train_combined = np.hstack((x_train_pca_standardized, x_train_hog_standardized))\n",
    "x_test_combined = np.hstack((x_test_pca_standardized, x_test_hog_standardized))\n",
    "\n",
    "# variance_threshold = VarianceThreshold(threshold=1)\n",
    "# x_train_variance = variance_threshold.fit_transform(x_train_combined)\n",
    "# x_test_variance = variance_threshold.transform(x_test_combined)\n",
    "\n",
    "# print(\"Dimensiuni înainte și după Variance Threshold:\")\n",
    "# print(f\"Dimensiuni train înainte: {x_train_combined.shape}, după: {x_train_variance.shape}\")\n",
    "# print(f\"Dimensiuni test înainte: {x_test_combined.shape}, după: {x_test_variance.shape}\")\n",
    "\n",
    "\n",
    "select_percentile = SelectPercentile(f_classif, percentile=35)\n",
    "x_train_final = select_percentile.fit_transform(x_train_combined, y_train)\n",
    "x_test_final = select_percentile.transform(x_test_combined)\n",
    "\n",
    "print(f\"Dimensiuni finale: Train: {x_train_final.shape}, Test: {x_test_final.shape}\")\n",
    "\n"
   ]
  },
  {
   "cell_type": "code",
   "execution_count": 6,
   "metadata": {},
   "outputs": [
    {
     "name": "stderr",
     "output_type": "stream",
     "text": [
      "C:\\Users\\raduf\\AppData\\Roaming\\Python\\Python37\\site-packages\\tqdm\\auto.py:21: TqdmWarning: IProgress not found. Please update jupyter and ipywidgets. See https://ipywidgets.readthedocs.io/en/stable/user_install.html\n",
      "  from .autonotebook import tqdm as notebook_tqdm\n"
     ]
    }
   ],
   "source": [
    "import torch\n",
    "from torch.utils.data import TensorDataset, DataLoader\n",
    "from sklearn.model_selection import train_test_split\n",
    "\n",
    "# Transformă datele în tensori PyTorch\n",
    "x_train_tensor = torch.tensor(x_train_final, dtype=torch.float32)\n",
    "x_test_tensor = torch.tensor(x_test_final, dtype=torch.float32)\n",
    "y_train_tensor = torch.tensor(y_train, dtype=torch.long)\n",
    "y_test_tensor = torch.tensor(y_test, dtype=torch.long)\n",
    "\n",
    "# Creează DataLoader pentru train și test\n",
    "train_dataset = TensorDataset(x_train_tensor, y_train_tensor)\n",
    "test_dataset = TensorDataset(x_test_tensor, y_test_tensor)\n",
    "\n",
    "train_loader = DataLoader(train_dataset, batch_size=64, shuffle=True)\n",
    "test_loader = DataLoader(test_dataset, batch_size=64, shuffle=False)\n",
    "\n"
   ]
  },
  {
   "cell_type": "code",
   "execution_count": 7,
   "metadata": {},
   "outputs": [],
   "source": [
    "import torch.nn as nn\n",
    "\n",
    "# class MLP(nn.Module):\n",
    "#     def __init__(self, input_size, hidden_sizes, output_size):\n",
    "#         super(MLP, self).__init__()\n",
    "#         self.fc1 = nn.Linear(input_size, hidden_sizes[0])\n",
    "#         self.fc2 = nn.Linear(hidden_sizes[0], hidden_sizes[1])\n",
    "#         self.fc3 = nn.Linear(hidden_sizes[1], output_size)\n",
    "#         self.relu = nn.ReLU()\n",
    "#         # self.dropout = nn.Dropout(0.2)\n",
    "\n",
    "#     def forward(self, x):\n",
    "#         x = self.relu(self.fc1(x))\n",
    "#         # x = self.dropout(x)\n",
    "#         x = self.relu(self.fc2(x))\n",
    "#         # x = self.dropout(x)\n",
    "#         x = self.fc3(x)\n",
    "#         return x\n",
    "\n",
    "class MLP(nn.Module):\n",
    "    def __init__(self, input_size, hidden_sizes, output_size):\n",
    "        super(MLP, self).__init__()\n",
    "        self.fc1 = nn.Linear(input_size, hidden_sizes[0])\n",
    "        self.relu = nn.ReLU()\n",
    "        self.fc2 = nn.Linear(hidden_sizes[0], output_size)\n",
    "        \n",
    "    def forward(self, x):\n",
    "        z = self.fc1(x)\n",
    "        z = self.relu(z)\n",
    "        z = self.fc2(z)\n",
    "        return z\n",
    "\n",
    "# Creează modelul\n",
    "input_size = x_train_final.shape[1]  # Dimensiunea caracteristicilor\n",
    "hidden_sizes = [128, 64]\n",
    "output_size = 10  # 10 clase pentru Fashion-MNIST\n",
    "\n",
    "model = MLP(input_size, hidden_sizes, output_size)\n",
    "\n"
   ]
  },
  {
   "cell_type": "code",
   "execution_count": 8,
   "metadata": {},
   "outputs": [],
   "source": [
    "import torch.optim as optim\n",
    "\n",
    "criterion = nn.CrossEntropyLoss()\n",
    "optimizer = optim.Adam(model.parameters(), lr=0.001)\n"
   ]
  },
  {
   "cell_type": "code",
   "execution_count": 9,
   "metadata": {},
   "outputs": [
    {
     "name": "stdout",
     "output_type": "stream",
     "text": [
      "Epoch 1/20,\n",
      " Train Loss: 0.6836,\n",
      " Test Loss: 0.5554, \n",
      "Train Acc: 0.7474,\n",
      " Test Acc: 0.7888\n",
      "Epoch 2/20,\n",
      " Train Loss: 0.5139,\n",
      " Test Loss: 0.5110, \n",
      "Train Acc: 0.8015,\n",
      " Test Acc: 0.8056\n",
      "Epoch 3/20,\n",
      " Train Loss: 0.4794,\n",
      " Test Loss: 0.4898, \n",
      "Train Acc: 0.8179,\n",
      " Test Acc: 0.8126\n",
      "Epoch 4/20,\n",
      " Train Loss: 0.4588,\n",
      " Test Loss: 0.4760, \n",
      "Train Acc: 0.8241,\n",
      " Test Acc: 0.8193\n",
      "Epoch 5/20,\n",
      " Train Loss: 0.4428,\n",
      " Test Loss: 0.4749, \n",
      "Train Acc: 0.8317,\n",
      " Test Acc: 0.8200\n",
      "Epoch 6/20,\n",
      " Train Loss: 0.4320,\n",
      " Test Loss: 0.4662, \n",
      "Train Acc: 0.8355,\n",
      " Test Acc: 0.8242\n",
      "Epoch 7/20,\n",
      " Train Loss: 0.4229,\n",
      " Test Loss: 0.4656, \n",
      "Train Acc: 0.8386,\n",
      " Test Acc: 0.8237\n",
      "Epoch 8/20,\n",
      " Train Loss: 0.4149,\n",
      " Test Loss: 0.4633, \n",
      "Train Acc: 0.8417,\n",
      " Test Acc: 0.8227\n",
      "Epoch 9/20,\n",
      " Train Loss: 0.4091,\n",
      " Test Loss: 0.4541, \n",
      "Train Acc: 0.8438,\n",
      " Test Acc: 0.8269\n",
      "Epoch 10/20,\n",
      " Train Loss: 0.4034,\n",
      " Test Loss: 0.4509, \n",
      "Train Acc: 0.8462,\n",
      " Test Acc: 0.8282\n",
      "Epoch 11/20,\n",
      " Train Loss: 0.3999,\n",
      " Test Loss: 0.4452, \n",
      "Train Acc: 0.8465,\n",
      " Test Acc: 0.8294\n",
      "Epoch 12/20,\n",
      " Train Loss: 0.3946,\n",
      " Test Loss: 0.4482, \n",
      "Train Acc: 0.8491,\n",
      " Test Acc: 0.8291\n",
      "Epoch 13/20,\n",
      " Train Loss: 0.3911,\n",
      " Test Loss: 0.4570, \n",
      "Train Acc: 0.8503,\n",
      " Test Acc: 0.8261\n",
      "Epoch 14/20,\n",
      " Train Loss: 0.3880,\n",
      " Test Loss: 0.4461, \n",
      "Train Acc: 0.8521,\n",
      " Test Acc: 0.8314\n",
      "Epoch 15/20,\n",
      " Train Loss: 0.3834,\n",
      " Test Loss: 0.4498, \n",
      "Train Acc: 0.8529,\n",
      " Test Acc: 0.8301\n",
      "Epoch 16/20,\n",
      " Train Loss: 0.3801,\n",
      " Test Loss: 0.4473, \n",
      "Train Acc: 0.8548,\n",
      " Test Acc: 0.8322\n",
      "Epoch 17/20,\n",
      " Train Loss: 0.3771,\n",
      " Test Loss: 0.4449, \n",
      "Train Acc: 0.8563,\n",
      " Test Acc: 0.8328\n",
      "Epoch 18/20,\n",
      " Train Loss: 0.3753,\n",
      " Test Loss: 0.4501, \n",
      "Train Acc: 0.8560,\n",
      " Test Acc: 0.8332\n",
      "Epoch 19/20,\n",
      " Train Loss: 0.3724,\n",
      " Test Loss: 0.4433, \n",
      "Train Acc: 0.8577,\n",
      " Test Acc: 0.8332\n",
      "Epoch 20/20,\n",
      " Train Loss: 0.3699,\n",
      " Test Loss: 0.4490, \n",
      "Train Acc: 0.8583,\n",
      " Test Acc: 0.8315\n"
     ]
    }
   ],
   "source": [
    "device = torch.device(\"cuda\" if torch.cuda.is_available() else \"cpu\")\n",
    "model.to(device)\n",
    "\n",
    "num_epochs = 20\n",
    "train_losses, test_losses, train_accuracies, test_accuracies = [], [], [], []\n",
    "\n",
    "for epoch in range(num_epochs):\n",
    "    # Antrenare\n",
    "    model.train()\n",
    "    running_loss = 0.0\n",
    "    correct = 0\n",
    "    total = 0\n",
    "    for inputs, labels in train_loader:\n",
    "        inputs, labels = inputs.to(device), labels.to(device)\n",
    "\n",
    "        optimizer.zero_grad()\n",
    "        outputs = model(inputs)\n",
    "        loss = criterion(outputs, labels)\n",
    "        loss.backward()\n",
    "        optimizer.step()\n",
    "\n",
    "        running_loss += loss.item()\n",
    "        _, predicted = torch.max(outputs, 1)\n",
    "        correct += (predicted == labels).sum().item()\n",
    "        total += labels.size(0)\n",
    "\n",
    "    train_losses.append(running_loss / len(train_loader))\n",
    "    train_accuracies.append(correct / total)\n",
    "\n",
    "    # Testare\n",
    "    model.eval()\n",
    "    running_loss = 0.0\n",
    "    correct = 0\n",
    "    total = 0\n",
    "    with torch.no_grad():\n",
    "        for inputs, labels in test_loader:\n",
    "            inputs, labels = inputs.to(device), labels.to(device)\n",
    "            outputs = model(inputs)\n",
    "            loss = criterion(outputs, labels)\n",
    "            running_loss += loss.item()\n",
    "            _, predicted = torch.max(outputs, 1)\n",
    "            correct += (predicted == labels).sum().item()\n",
    "            total += labels.size(0)\n",
    "\n",
    "    test_losses.append(running_loss / len(test_loader))\n",
    "    test_accuracies.append(correct / total)\n",
    "\n",
    "    print(f\"Epoch {epoch+1}/{num_epochs},\\n Train Loss: {train_losses[-1]:.4f},\\n Test Loss: {test_losses[-1]:.4f}, \"\n",
    "          f\"\\nTrain Acc: {train_accuracies[-1]:.4f},\\n Test Acc: {test_accuracies[-1]:.4f}\")\n"
   ]
  },
  {
   "cell_type": "code",
   "execution_count": 10,
   "metadata": {},
   "outputs": [
    {
     "data": {
      "image/png": "[encoded data removed]",
      "text/plain": [
       "<Figure size 1200x500 with 2 Axes>"
      ]
     },
     "metadata": {},
     "output_type": "display_data"
    }
   ],
   "source": [
    "import matplotlib.pyplot as plt\n",
    "\n",
    "# Curbele de pierdere\n",
    "plt.figure(figsize=(12, 5))\n",
    "plt.subplot(1, 2, 1)\n",
    "plt.plot(train_losses, label='Train Loss')\n",
    "plt.plot(test_losses, label='Test Loss')\n",
    "plt.title('Loss')\n",
    "plt.legend()\n",
    "\n",
    "# Curbele de acuratețe\n",
    "plt.subplot(1, 2, 2)\n",
    "plt.plot(train_accuracies, label='Train Accuracy')\n",
    "plt.plot(test_accuracies, label='Test Accuracy')\n",
    "plt.title('Accuracy')\n",
    "plt.legend()\n",
    "\n",
    "plt.show()\n"
   ]
  },
  {
   "cell_type": "code",
   "execution_count": 11,
   "metadata": {},
   "outputs": [],
   "source": [
    "# from sklearn.metrics import classification_report, ConfusionMatrixDisplay\n",
    "\n",
    "# # Preziceri pe setul de test\n",
    "# model.eval()\n",
    "# all_preds = []\n",
    "# all_labels = []\n",
    "\n",
    "# with torch.no_grad():\n",
    "#     for inputs, labels in test_loader:\n",
    "#         inputs, labels = inputs.to(device), labels.to(device)\n",
    "#         outputs = model(inputs)\n",
    "#         _, predicted = torch.max(outputs, 1)\n",
    "#         all_preds.extend(predicted.cpu().numpy())\n",
    "#         all_labels.extend(labels.cpu().numpy())\n",
    "\n",
    "# print(classification_report(all_labels, all_preds))\n",
    "# ConfusionMatrixDisplay.from_predictions(all_labels, all_preds, cmap='Blues')\n",
    "# plt.show()\n"
   ]
  },
  {
   "cell_type": "markdown",
   "metadata": {},
   "source": [
    "## 3.2"
   ]
  },
  {
   "cell_type": "code",
   "execution_count": 12,
   "metadata": {},
   "outputs": [],
   "source": [
    "# x_train_flat = x_train.reshape(x_train.shape[0], -1)\n",
    "# x_test_flat = x_test.reshape(x_test.shape[0], -1)\n",
    "\n",
    "# # Normalizează datele\n",
    "# x_train_flat = x_train_flat / 255.0\n",
    "# x_test_flat = x_test_flat / 255.0\n",
    "\n",
    "# print(f\"Dimensiuni după liniarizare: Train: {x_train_flat.shape}, Test: {x_test_flat.shape}\")\n"
   ]
  },
  {
   "cell_type": "code",
   "execution_count": 13,
   "metadata": {},
   "outputs": [],
   "source": [
    "# from tensorflow.keras.models import Sequential\n",
    "# from tensorflow.keras.layers import Dense, Dropout\n",
    "\n",
    "# model = Sequential([\n",
    "#     Dense(256, activation='relu', input_shape=(784,)),  # 784 = 28x28\n",
    "#     Dropout(0.2),\n",
    "#     Dense(128, activation='relu'),\n",
    "#     Dropout(0.2),\n",
    "#     Dense(10, activation='softmax')  # 10 clase\n",
    "# ])\n",
    "\n",
    "# model.compile(optimizer='adam', loss='sparse_categorical_crossentropy', metrics=['accuracy'])\n"
   ]
  },
  {
   "cell_type": "code",
   "execution_count": 14,
   "metadata": {},
   "outputs": [],
   "source": [
    "# history = model.fit(x_train_flat, y_train, validation_data=(x_test_flat, y_test), epochs=20, batch_size=64)\n"
   ]
  },
  {
   "cell_type": "code",
   "execution_count": 15,
   "metadata": {},
   "outputs": [],
   "source": [
    "# import matplotlib.pyplot as plt\n",
    "\n",
    "# plt.figure(figsize=(12, 5))\n",
    "# plt.subplot(1, 2, 1)\n",
    "# plt.plot(history.history['loss'], label='Train Loss')\n",
    "# plt.plot(history.history['val_loss'], label='Validation Loss')\n",
    "# plt.title('Loss')\n",
    "# plt.legend()\n",
    "\n",
    "# plt.subplot(1, 2, 2)\n",
    "# plt.plot(history.history['accuracy'], label='Train Accuracy')\n",
    "# plt.plot(history.history['val_accuracy'], label='Validation Accuracy')\n",
    "# plt.title('Accuracy')\n",
    "# plt.legend()\n",
    "# plt.show()\n"
   ]
  },
  {
   "cell_type": "code",
   "execution_count": 16,
   "metadata": {},
   "outputs": [],
   "source": [
    "# from sklearn.metrics import classification_report, ConfusionMatrixDisplay\n",
    "# import numpy as np\n",
    "\n",
    "# # Preziceri pe datele de test\n",
    "# y_pred = np.argmax(model.predict(x_test_flat), axis=1)\n",
    "\n",
    "# # Raport și matrice de confuzie\n",
    "# print(classification_report(y_test, y_pred))\n",
    "\n",
    "# ConfusionMatrixDisplay.from_predictions(y_test, y_pred, cmap='Blues')\n",
    "# plt.show()\n"
   ]
  },
  {
   "cell_type": "markdown",
   "metadata": {},
   "source": [
    "## 3.3"
   ]
  },
  {
   "cell_type": "markdown",
   "metadata": {},
   "source": [
    "## 3.4"
   ]
  },
  {
   "cell_type": "code",
   "execution_count": 17,
   "metadata": {},
   "outputs": [],
   "source": [
    "# from tensorflow.image import resize\n",
    "# import numpy as np\n",
    "\n",
    "# # Transformă imaginile grayscale în RGB\n",
    "# x_train_rgb = np.repeat(x_train, 3, axis=-1)\n",
    "# x_test_rgb = np.repeat(x_test, 3, axis=-1)\n",
    "\n",
    "# # Rescalează imaginile la dimensiunea 32x32\n",
    "# x_train_resized = np.array([resize(img, (32, 32)).numpy() for img in x_train_rgb])\n",
    "# x_test_resized = np.array([resize(img, (32, 32)).numpy() for img in x_test_rgb])\n",
    "\n",
    "# print(f\"Dimensiuni imagini după transformare: {x_train_resized.shape}, {x_test_resized.shape}\")\n"
   ]
  },
  {
   "cell_type": "code",
   "execution_count": 18,
   "metadata": {},
   "outputs": [],
   "source": [
    "# from tensorflow.keras.applications import ResNet50\n",
    "# from tensorflow.keras.models import Model\n",
    "# from tensorflow.keras.layers import Dense, GlobalAveragePooling2D\n",
    "\n",
    "# # Încarcă modelul ResNet-18 pre-antrenat\n",
    "# base_model = ResNet50(weights='imagenet', include_top=False, input_shape=(32, 32, 3))\n",
    "\n",
    "# # Blochează straturile pre-antrenate\n",
    "# for layer in base_model.layers:\n",
    "#     layer.trainable = False\n",
    "\n",
    "# # Adaugă straturi personalizate pentru clasificare\n",
    "# x = base_model.output\n",
    "# x = GlobalAveragePooling2D()(x)\n",
    "# x = Dense(128, activation='relu')(x)\n",
    "# predictions = Dense(10, activation='softmax')(x)\n",
    "\n",
    "# model = Model(inputs=base_model.input, outputs=predictions)\n"
   ]
  },
  {
   "cell_type": "code",
   "execution_count": 19,
   "metadata": {},
   "outputs": [],
   "source": [
    "# from tensorflow.keras.optimizers import SGD\n",
    "\n",
    "# model.compile(optimizer=SGD(learning_rate=0.001, momentum=0.9),\n",
    "#               loss='sparse_categorical_crossentropy',\n",
    "#               metrics=['accuracy'])\n",
    "\n",
    "# history = model.fit(x_train_resized, y_train, validation_data=(x_test_resized, y_test), epochs=20, batch_size=64)\n"
   ]
  },
  {
   "cell_type": "code",
   "execution_count": 20,
   "metadata": {},
   "outputs": [],
   "source": [
    "# for layer in base_model.layers:\n",
    "#     layer.trainable = True\n",
    "\n",
    "# # Recompilează modelul cu o rată de învățare mai mică\n",
    "# model.compile(optimizer=SGD(learning_rate=0.0001, momentum=0.9),\n",
    "#               loss='sparse_categorical_crossentropy',\n",
    "#               metrics=['accuracy'])\n",
    "\n",
    "# history_finetune = model.fit(x_train_resized, y_train, validation_data=(x_test_resized, y_test), epochs=10, batch_size=64)\n"
   ]
  },
  {
   "cell_type": "code",
   "execution_count": 21,
   "metadata": {},
   "outputs": [],
   "source": [
    "# # Afișează graficele\n",
    "# import matplotlib.pyplot as plt\n",
    "\n",
    "# plt.figure(figsize=(12, 5))\n",
    "# plt.subplot(1, 2, 1)\n",
    "# plt.plot(history.history['loss'], label='Train Loss')\n",
    "# plt.plot(history.history['val_loss'], label='Validation Loss')\n",
    "# plt.title('Loss')\n",
    "# plt.legend()\n",
    "\n",
    "# plt.subplot(1, 2, 2)\n",
    "# plt.plot(history.history['accuracy'], label='Train Accuracy')\n",
    "# plt.plot(history.history['val_accuracy'], label='Validation Accuracy')\n",
    "# plt.title('Accuracy')\n",
    "# plt.legend()\n",
    "# plt.show()\n"
   ]
  }
 ],
 "metadata": {
  "kernelspec": {
   "display_name": "Python 3",
   "language": "python",
   "name": "python3"
  },
  "language_info": {
   "codemirror_mode": {
    "name": "ipython",
    "version": 3
   },
   "file_extension": ".py",
   "mimetype": "text/x-python",
   "name": "python",
   "nbconvert_exporter": "python",
   "pygments_lexer": "ipython3",
   "version": "3.7.9"
  }
 },
 "nbformat": 4,
 "nbformat_minor": 2
}
